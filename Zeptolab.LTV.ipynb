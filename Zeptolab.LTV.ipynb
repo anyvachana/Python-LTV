{
 "cells": [
  {
   "cell_type": "code",
   "execution_count": 223,
   "metadata": {
    "collapsed": false
   },
   "outputs": [],
   "source": [
    "import pandas as pd"
   ]
  },
  {
   "cell_type": "code",
   "execution_count": 224,
   "metadata": {
    "collapsed": false
   },
   "outputs": [],
   "source": [
    "installs=pd.read_csv('installs.csv')\n",
    "ecpm=pd.read_csv('eCPM.csv')\n",
    "iap=pd.read_csv('in_game_purchases_revenue.csv')\n",
    "total_ads=pd.read_csv('total_ads_watched.csv')\n",
    "\n",
    "cohorts=installs['cohort_number']\n",
    "\n",
    "days=pd.unique(pd.concat([iap['Date'],total_ads['Date'],ecpm['Date']]))"
   ]
  },
  {
   "cell_type": "code",
   "execution_count": 225,
   "metadata": {
    "collapsed": false
   },
   "outputs": [
    {
     "name": "stdout",
     "output_type": "stream",
     "text": [
      "ads revenue is done\n"
     ]
    }
   ],
   "source": [
    "# ads revenue\n",
    "ads_revenue = list()\n",
    "\n",
    "for date in total_ads['Date']:\n",
    "    ecpm_value=ecpm.loc[pd.to_datetime(ecpm['Date'])==pd.to_datetime(date)]['eCPM']\n",
    "    \n",
    "    row=list()\n",
    "    row.append(date)\n",
    "    \n",
    "    for i in list(total_ads.drop('Date', axis=1)):\n",
    "            row.append((float(total_ads.loc[total_ads['Date']==date][i])*float(ecpm_value))/1000)\n",
    "            \n",
    "    ads_revenue.append(row)\n",
    "    \n",
    "ads_revenue = pd.DataFrame(ads_revenue,columns=list(total_ads))\n",
    "print('ads revenue is done')"
   ]
  },
  {
   "cell_type": "code",
   "execution_count": 226,
   "metadata": {
    "collapsed": false,
    "scrolled": false
   },
   "outputs": [
    {
     "name": "stdout",
     "output_type": "stream",
     "text": [
      "3001 is ended\n",
      "3002 is ended\n",
      "3003 is ended\n",
      "3004 is ended\n",
      "3005 is ended\n",
      "3006 is ended\n",
      "3007 is ended\n",
      "3008 is ended\n",
      "3009 is ended\n",
      "3010 is ended\n",
      "3011 is ended\n",
      "3012 is ended\n",
      "3013 is ended\n",
      "3014 is ended\n",
      "3015 is ended\n",
      "3016 is ended\n",
      "3017 is ended\n",
      "3018 is ended\n",
      "3019 is ended\n",
      "3020 is ended\n",
      "3021 is ended\n",
      "3022 is ended\n",
      "3023 is ended\n",
      "3024 is ended\n",
      "3025 is ended\n",
      "3026 is ended\n",
      "3027 is ended\n",
      "3028 is ended\n",
      "3029 is ended\n",
      "3030 is ended\n",
      "3031 is ended\n",
      "ltv for all cohorts is done\n",
      "Well done!\n"
     ]
    }
   ],
   "source": [
    "# LTV\n",
    "ltv_all= list()\n",
    "\n",
    "for cohort in cohorts:\n",
    "    ltv=0\n",
    "    row=list()\n",
    "    row.append(cohort)\n",
    "    \n",
    "    if str(cohort) in list(ads_revenue.columns.values) and str(cohort) in list(iap.columns.values):\n",
    "        \n",
    "        for date in pd.to_datetime(days):\n",
    "            ads_revenue_day=float(ads_revenue.loc[pd.to_datetime(ads_revenue['Date'])==date][str(cohort)])\n",
    "            iap_revenue_day=float(iap.loc[pd.to_datetime(iap['Date'])==date][str(cohort)])\n",
    "            cohort_installs=float(installs.loc[installs['cohort_number']==cohort]['installs'])\n",
    "            \n",
    "            ltv=ltv+((ads_revenue_day+iap_revenue_day)/cohort_installs)\n",
    "            row.append(ltv)\n",
    "    else:\n",
    "        print('not here')\n",
    "        \n",
    "    ltv_all.append(row)\n",
    "    print(str(cohort)+' is ended')\n",
    "    \n",
    "print('ltv for all cohorts is done')\n",
    "\n",
    "columns=list()\n",
    "day=list(days)\n",
    "\n",
    "for x in list(day):\n",
    "    columns.append('LTV'+str(day.index(x)+1))\n",
    "    \n",
    "columns.insert(0,'cohort')\n",
    "\n",
    "ltv_all = pd.DataFrame(ltv_all,columns=columns)\n",
    "print('Well done!')"
   ]
  },
  {
   "cell_type": "code",
   "execution_count": 227,
   "metadata": {
    "collapsed": true
   },
   "outputs": [],
   "source": [
    "# to csv\n",
    "ltv_all.to_csv('ltv all in all.csv')\n",
    "\n",
    "print('This is all')"
   ]
  }
 ],
 "metadata": {
  "kernelspec": {
   "display_name": "Python 2",
   "language": "python",
   "name": "python2"
  },
  "language_info": {
   "codemirror_mode": {
    "name": "ipython",
    "version": 2
   },
   "file_extension": ".py",
   "mimetype": "text/x-python",
   "name": "python",
   "nbconvert_exporter": "python",
   "pygments_lexer": "ipython2",
   "version": "2.7.10"
  }
 },
 "nbformat": 4,
 "nbformat_minor": 0
}
